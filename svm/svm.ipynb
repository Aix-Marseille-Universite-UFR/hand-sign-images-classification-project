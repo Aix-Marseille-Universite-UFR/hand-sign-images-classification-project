{
 "cells": [
  {
   "cell_type": "code",
   "execution_count": 7,
   "id": "d0c2c8ed",
   "metadata": {},
   "outputs": [
    {
     "name": "stdout",
     "output_type": "stream",
     "text": [
      "Requirement already satisfied: kaggle in c:\\users\\belho\\anaconda3\\lib\\site-packages (1.6.17)\n",
      "Requirement already satisfied: python-dateutil in c:\\users\\belho\\anaconda3\\lib\\site-packages (from kaggle) (2.8.2)\n",
      "Requirement already satisfied: certifi>=2023.7.22 in c:\\users\\belho\\anaconda3\\lib\\site-packages (from kaggle) (2024.8.30)\n",
      "Requirement already satisfied: urllib3 in c:\\users\\belho\\anaconda3\\lib\\site-packages (from kaggle) (1.26.11)\n",
      "Requirement already satisfied: six>=1.10 in c:\\users\\belho\\anaconda3\\lib\\site-packages (from kaggle) (1.16.0)\n",
      "Requirement already satisfied: requests in c:\\users\\belho\\anaconda3\\lib\\site-packages (from kaggle) (2.28.1)\n",
      "Requirement already satisfied: tqdm in c:\\users\\belho\\anaconda3\\lib\\site-packages (from kaggle) (4.64.1)\n",
      "Requirement already satisfied: python-slugify in c:\\users\\belho\\anaconda3\\lib\\site-packages (from kaggle) (5.0.2)\n",
      "Requirement already satisfied: bleach in c:\\users\\belho\\anaconda3\\lib\\site-packages (from kaggle) (4.1.0)\n",
      "Requirement already satisfied: packaging in c:\\users\\belho\\anaconda3\\lib\\site-packages (from bleach->kaggle) (21.3)\n",
      "Requirement already satisfied: webencodings in c:\\users\\belho\\anaconda3\\lib\\site-packages (from bleach->kaggle) (0.5.1)\n",
      "Requirement already satisfied: text-unidecode>=1.3 in c:\\users\\belho\\anaconda3\\lib\\site-packages (from python-slugify->kaggle) (1.3)\n",
      "Requirement already satisfied: charset-normalizer<3,>=2 in c:\\users\\belho\\anaconda3\\lib\\site-packages (from requests->kaggle) (2.0.4)\n",
      "Requirement already satisfied: idna<4,>=2.5 in c:\\users\\belho\\anaconda3\\lib\\site-packages (from requests->kaggle) (3.3)\n",
      "Requirement already satisfied: colorama in c:\\users\\belho\\anaconda3\\lib\\site-packages (from tqdm->kaggle) (0.4.5)\n",
      "Requirement already satisfied: pyparsing!=3.0.5,>=2.0.2 in c:\\users\\belho\\anaconda3\\lib\\site-packages (from packaging->bleach->kaggle) (3.0.9)\n"
     ]
    }
   ],
   "source": [
    "!pip install --upgrade kaggle"
   ]
  },
  {
   "cell_type": "code",
   "execution_count": 7,
   "id": "4fcffde0",
   "metadata": {},
   "outputs": [
    {
     "name": "stderr",
     "output_type": "stream",
     "text": [
      "C:\\Users\\belho\\AppData\\Local\\Packages\\PythonSoftwareFoundation.Python.3.12_qbz5n2kfra8p0\\LocalCache\\local-packages\\Python312\\site-packages\\tqdm\\auto.py:21: TqdmWarning: IProgress not found. Please update jupyter and ipywidgets. See https://ipywidgets.readthedocs.io/en/stable/user_install.html\n",
      "  from .autonotebook import tqdm as notebook_tqdm\n"
     ]
    },
    {
     "name": "stdout",
     "output_type": "stream",
     "text": [
      "Path to dataset files: C:\\Users\\belho\\.cache\\kagglehub\\datasets\\furkanakdeniz\\asl-handsign-dataset-grayscaled-thresholded\\versions\\1\n"
     ]
    }
   ],
   "source": [
    "import kagglehub\n",
    "\n",
    "# Download latest version\n",
    "path = kagglehub.dataset_download(\"furkanakdeniz/asl-handsign-dataset-grayscaled-thresholded\")\n",
    "\n",
    "print(\"Path to dataset files:\", path)"
   ]
  },
  {
   "cell_type": "code",
   "execution_count": 8,
   "id": "285d484a",
   "metadata": {},
   "outputs": [],
   "source": [
    "import os\n",
    "import numpy as np\n",
    "from sklearn.svm import SVC\n",
    "from sklearn.metrics import classification_report, accuracy_score\n",
    "from sklearn.model_selection import train_test_split\n",
    "import joblib\n",
    "import matplotlib.pyplot as plt\n",
    "import cv2  # Pour redimensionner les images\n",
    "\n",
    "# Chemin vers le dataset\n",
    "dataset_path = r\"C:\\Users\\belho\\.cache\\kagglehub\\datasets\\furkanakdeniz\\asl-handsign-dataset-grayscaled-thresholded\\versions\\1\\asl-dataset\\asl-dataset\"\n",
    "\n",
    "# Alphabets disponibles dans le dataset\n",
    "alphabet_array = ['A', 'B', 'C', 'D', 'E', 'F', 'G', 'H', 'I', 'K', 'L', 'M',\n",
    "                  'N', 'O', 'P', 'Q', 'R', 'S', 'T', 'U', 'V', 'W', 'X', 'Y']\n",
    "\n",
    "# Charger les images et leurs étiquettes\n",
    "image_arr = []\n",
    "image_name_value = []\n",
    "\n",
    "# Taille cible pour toutes les images\n",
    "target_size = (28, 28)\n",
    "\n",
    "for letter in alphabet_array:\n",
    "    path_letter = os.path.join(dataset_path, \"train\", letter)\n",
    "    if not os.path.exists(path_letter):\n",
    "        print(f\"Le dossier {path_letter} n'existe pas.\")\n",
    "        continue\n",
    "\n",
    "    for image_name in os.listdir(path_letter):\n",
    "        image_path = os.path.join(path_letter, image_name)\n",
    "        # Charger et redimensionner l'image\n",
    "        image = plt.imread(image_path)  # Charger l'image\n",
    "        if image.ndim == 3:  # Convertir en niveau de gris si l'image est RGB\n",
    "            image = cv2.cvtColor(image, cv2.COLOR_RGB2GRAY)\n",
    "        resized_image = cv2.resize(image, target_size)  # Redimensionner\n",
    "        image_arr.append(resized_image.flatten())  # Aplatir et ajouter à la liste\n",
    "        image_name_value.append(letter)\n"
   ]
  },
  {
   "cell_type": "code",
   "execution_count": 9,
   "id": "71db374a",
   "metadata": {},
   "outputs": [],
   "source": [
    "# Conversion en tableaux numpy\n",
    "X_data = np.array(image_arr)\n",
    "y_data = np.array(image_name_value)\n",
    "\n",
    "# Créer un mapping des étiquettes vers des entiers\n",
    "label_to_int = {label: idx for idx, label in enumerate(np.unique(y_data))}\n",
    "y_data = np.array([label_to_int[label] for label in y_data])\n",
    "\n",
    "# Diviser les données en ensembles d'entraînement et de test\n",
    "X_train, X_test, y_train, y_test = train_test_split(X_data, y_data, test_size=0.2, random_state=42)\n"
   ]
  },
  {
   "cell_type": "code",
   "execution_count": 5,
   "id": "8235095b",
   "metadata": {},
   "outputs": [
    {
     "name": "stdout",
     "output_type": "stream",
     "text": [
      "Accuracy du modèle SVM: 0.9419\n",
      "\n",
      "Rapport de classification:\n",
      "               precision    recall  f1-score   support\n",
      "\n",
      "           0       0.91      0.99      0.95       222\n",
      "           1       0.92      0.96      0.94       248\n",
      "           2       0.94      0.97      0.96       241\n",
      "           3       0.94      0.96      0.95       322\n",
      "           4       0.95      0.97      0.96       297\n",
      "           5       0.92      0.94      0.93       306\n",
      "           6       0.95      0.99      0.97       154\n",
      "           7       0.95      0.99      0.97       257\n",
      "           8       0.96      0.96      0.96       274\n",
      "           9       0.94      0.95      0.94       296\n",
      "          10       0.96      0.97      0.97       255\n",
      "          11       0.93      0.93      0.93       280\n",
      "          12       0.92      0.92      0.92       278\n",
      "          13       0.93      0.91      0.92       173\n",
      "          14       0.96      0.96      0.96       212\n",
      "          15       0.87      0.94      0.90       188\n",
      "          16       0.96      0.90      0.93       257\n",
      "          17       0.96      0.93      0.94       211\n",
      "          18       0.90      0.84      0.87       241\n",
      "          19       0.92      0.87      0.90       294\n",
      "          20       0.97      0.90      0.94       273\n",
      "          21       0.96      0.94      0.95       208\n",
      "          22       0.97      0.93      0.95       242\n",
      "          23       1.00      0.99      0.99       281\n",
      "\n",
      "    accuracy                           0.94      6010\n",
      "   macro avg       0.94      0.94      0.94      6010\n",
      "weighted avg       0.94      0.94      0.94      6010\n",
      "\n",
      "Modèle SVM sauvegardé sous 'svm_hand_sign_model.pkl'\n"
     ]
    }
   ],
   "source": [
    "# Entraîner le modèle SVM\n",
    "svm_model = SVC(kernel='linear', C=1.0, probability=True)\n",
    "svm_model.fit(X_train, y_train)\n",
    "\n",
    "# Évaluer le modèle\n",
    "y_pred = svm_model.predict(X_test)\n",
    "accuracy = accuracy_score(y_test, y_pred)\n",
    "print(f\"Accuracy du modèle SVM: {accuracy:.4f}\")\n",
    "print(\"\\nRapport de classification:\\n\", classification_report(y_test, y_pred))\n",
    "\n",
    "# Sauvegarder le modèle entraîné\n",
    "joblib.dump(svm_model, \"svm_hand_sign_model.pkl\")\n",
    "print(\"Modèle SVM sauvegardé sous 'svm_hand_sign_model.pkl'\")"
   ]
  },
  {
   "cell_type": "code",
   "execution_count": 4,
   "id": "9760e2b4",
   "metadata": {},
   "outputs": [
    {
     "name": "stdout",
     "output_type": "stream",
     "text": [
      "Lancement de la recherche d'hyperparamètres...\n",
      "Fitting 3 folds for each of 72 candidates, totalling 216 fits\n",
      "Meilleurs hyperparamètres : {'C': 10, 'degree': 2, 'gamma': 'scale', 'kernel': 'rbf'}\n",
      "Meilleure précision moyenne : 0.9743\n",
      "Précision sur les données de test : 0.9849\n",
      "\n",
      "Rapport de classification :\n",
      "               precision    recall  f1-score   support\n",
      "\n",
      "           0       0.97      1.00      0.99       222\n",
      "           1       0.97      1.00      0.98       248\n",
      "           2       0.99      1.00      0.99       241\n",
      "           3       0.99      0.98      0.99       322\n",
      "           4       0.99      0.99      0.99       297\n",
      "           5       1.00      0.98      0.99       306\n",
      "           6       0.99      1.00      0.99       154\n",
      "           7       0.99      1.00      1.00       257\n",
      "           8       1.00      0.98      0.99       274\n",
      "           9       0.98      0.98      0.98       296\n",
      "          10       1.00      0.98      0.99       255\n",
      "          11       0.97      0.99      0.98       280\n",
      "          12       0.97      0.98      0.98       278\n",
      "          13       0.98      0.98      0.98       173\n",
      "          14       0.99      0.98      0.98       212\n",
      "          15       0.94      0.97      0.96       188\n",
      "          16       0.99      0.97      0.98       257\n",
      "          17       1.00      0.98      0.99       211\n",
      "          18       0.96      0.96      0.96       241\n",
      "          19       0.99      0.96      0.97       294\n",
      "          20       0.99      0.98      0.99       273\n",
      "          21       0.99      1.00      0.99       208\n",
      "          22       0.99      0.99      0.99       242\n",
      "          23       1.00      1.00      1.00       281\n",
      "\n",
      "    accuracy                           0.98      6010\n",
      "   macro avg       0.98      0.99      0.98      6010\n",
      "weighted avg       0.99      0.98      0.98      6010\n",
      "\n",
      "Meilleur modèle SVM sauvegardé sous 'svm_hand_sign_best_model.pkl'\n"
     ]
    }
   ],
   "source": [
    "from sklearn.model_selection import GridSearchCV\n",
    "from sklearn.svm import SVC\n",
    "from sklearn.metrics import classification_report, accuracy_score\n",
    "import joblib\n",
    "\n",
    "# Définir les hyperparamètres à tester\n",
    "param_grid = {\n",
    "    'C': [0.1, 1, 10, 100],                # Coefficient de régularisation\n",
    "    'kernel': ['linear', 'poly', 'rbf'],   # Type de noyau\n",
    "    'degree': [2, 3, 4],                   # Degré pour le noyau 'poly'\n",
    "    'gamma': ['scale', 'auto'],            # Coefficient gamma pour 'rbf' et 'poly'\n",
    "}\n",
    "\n",
    "# Initialiser le modèle SVM\n",
    "svm_model = SVC(probability=True)\n",
    "\n",
    "# Configurer le GridSearch\n",
    "grid_search = GridSearchCV(\n",
    "    estimator=svm_model,\n",
    "    param_grid=param_grid,\n",
    "    scoring='accuracy',  # Critère pour évaluer les modèles\n",
    "    cv=3,                # Validation croisée à 3 plis\n",
    "    verbose=2,           # Afficher la progression\n",
    "    n_jobs=-1            # Utiliser tous les cœurs disponibles\n",
    ")\n",
    "\n",
    "# Lancer la recherche\n",
    "print(\"Lancement de la recherche d'hyperparamètres...\")\n",
    "grid_search.fit(X_train, y_train)\n",
    "\n",
    "# Résultats du GridSearch\n",
    "best_params = grid_search.best_params_\n",
    "best_score = grid_search.best_score_\n",
    "print(f\"Meilleurs hyperparamètres : {best_params}\")\n",
    "print(f\"Meilleure précision moyenne : {best_score:.4f}\")\n",
    "\n",
    "# Évaluer le meilleur modèle sur les données de test\n",
    "best_model = grid_search.best_estimator_\n",
    "y_pred = best_model.predict(X_test)\n",
    "accuracy = accuracy_score(y_test, y_pred)\n",
    "print(f\"Précision sur les données de test : {accuracy:.4f}\")\n",
    "print(\"\\nRapport de classification :\\n\", classification_report(y_test, y_pred))\n",
    "\n",
    "# Sauvegarder le meilleur modèle\n",
    "joblib.dump(best_model, \"svm_hand_sign_best_model.pkl\")\n",
    "print(\"Meilleur modèle SVM sauvegardé sous 'svm_hand_sign_best_model.pkl'\")\n"
   ]
  },
  {
   "cell_type": "code",
   "execution_count": 2,
   "id": "f8b6b63a",
   "metadata": {},
   "outputs": [
    {
     "name": "stdout",
     "output_type": "stream",
     "text": [
      "Lettres sur lesquelles le modèle a été entraîné :\n",
      "[ 0  1  2  3  4  5  6  7  8  9 10 11 12 13 14 15 16 17 18 19 20 21 22 23]\n"
     ]
    }
   ],
   "source": [
    "import joblib\n",
    "\n",
    "# Charger le modèle sauvegardé\n",
    "model_path = \"svm_hand_sign_best_model.pkl\"  # Chemin du fichier\n",
    "best_model = joblib.load(model_path)\n",
    "\n",
    "# Vérifier les classes associées au modèle\n",
    "if hasattr(best_model, 'classes_'):\n",
    "    print(\"Lettres sur lesquelles le modèle a été entraîné :\")\n",
    "    print(best_model.classes_)\n",
    "else:\n",
    "    print(\"Impossible de récupérer les classes. Vérifiez le modèle ou les données.\")\n"
   ]
  },
  {
   "cell_type": "code",
   "execution_count": 10,
   "id": "9e92b4ba",
   "metadata": {},
   "outputs": [
    {
     "name": "stdout",
     "output_type": "stream",
     "text": [
      "Lettres sur lesquelles le modèle a été entraîné :\n",
      "[ 0  1  2  3  4  5  6  7  8  9 10 11 12 13 14 15 16 17 18 19 20 21 22 23]\n",
      "AUC du meilleur modèle : 0.9998\n"
     ]
    }
   ],
   "source": [
    "from sklearn.metrics import roc_auc_score\n",
    "from sklearn.preprocessing import label_binarize\n",
    "import joblib\n",
    "\n",
    "# Charger le meilleur modèle\n",
    "model_path = \"svm_hand_sign_best_model.pkl\"\n",
    "best_model = joblib.load(model_path)\n",
    "\n",
    "# Vérifier les classes associées au modèle\n",
    "if hasattr(best_model, 'classes_'):\n",
    "    print(\"Lettres sur lesquelles le modèle a été entraîné :\")\n",
    "    print(best_model.classes_)\n",
    "else:\n",
    "    print(\"Impossible de récupérer les classes. Vérifiez le modèle ou les données.\")\n",
    "\n",
    "# Calculer l'AUC pour le meilleur modèle\n",
    "y_test_bin = label_binarize(y_test, classes=np.arange(len(alphabet_array)))\n",
    "y_score = best_model.predict_proba(X_test)\n",
    "auc_score_best = roc_auc_score(y_test_bin, y_score, multi_class=\"ovr\")\n",
    "print(f\"AUC du meilleur modèle : {auc_score_best:.4f}\")\n"
   ]
  }
 ],
 "metadata": {
  "kernelspec": {
   "display_name": "Python 3 (ipykernel)",
   "language": "python",
   "name": "python3"
  },
  "language_info": {
   "codemirror_mode": {
    "name": "ipython",
    "version": 3
   },
   "file_extension": ".py",
   "mimetype": "text/x-python",
   "name": "python",
   "nbconvert_exporter": "python",
   "pygments_lexer": "ipython3",
   "version": "3.9.13"
  }
 },
 "nbformat": 4,
 "nbformat_minor": 5
}
