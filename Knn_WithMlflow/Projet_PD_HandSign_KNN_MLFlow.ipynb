{
 "cells": [
  {
   "cell_type": "code",
   "execution_count": 1,
   "metadata": {},
   "outputs": [
    {
     "name": "stdout",
     "output_type": "stream",
     "text": [
      "Requirement already satisfied: mlflow in /Users/nedday/Documents/All Projects /hand-sign-images-classification-project/hand-sign-images-classification-project/.venv/lib/python3.13/site-packages (2.18.0)\n",
      "Requirement already satisfied: mlflow-skinny==2.18.0 in /Users/nedday/Documents/All Projects /hand-sign-images-classification-project/hand-sign-images-classification-project/.venv/lib/python3.13/site-packages (from mlflow) (2.18.0)\n",
      "Requirement already satisfied: Flask<4 in /Users/nedday/Documents/All Projects /hand-sign-images-classification-project/hand-sign-images-classification-project/.venv/lib/python3.13/site-packages (from mlflow) (3.1.0)\n",
      "Requirement already satisfied: alembic!=1.10.0,<2 in /Users/nedday/Documents/All Projects /hand-sign-images-classification-project/hand-sign-images-classification-project/.venv/lib/python3.13/site-packages (from mlflow) (1.14.0)\n",
      "Requirement already satisfied: docker<8,>=4.0.0 in /Users/nedday/Documents/All Projects /hand-sign-images-classification-project/hand-sign-images-classification-project/.venv/lib/python3.13/site-packages (from mlflow) (7.1.0)\n",
      "Requirement already satisfied: graphene<4 in /Users/nedday/Documents/All Projects /hand-sign-images-classification-project/hand-sign-images-classification-project/.venv/lib/python3.13/site-packages (from mlflow) (3.4.3)\n",
      "Requirement already satisfied: markdown<4,>=3.3 in /Users/nedday/Documents/All Projects /hand-sign-images-classification-project/hand-sign-images-classification-project/.venv/lib/python3.13/site-packages (from mlflow) (3.7)\n",
      "Requirement already satisfied: matplotlib<4 in /Users/nedday/Documents/All Projects /hand-sign-images-classification-project/hand-sign-images-classification-project/.venv/lib/python3.13/site-packages (from mlflow) (3.9.3)\n",
      "Requirement already satisfied: numpy<3 in /Users/nedday/Documents/All Projects /hand-sign-images-classification-project/hand-sign-images-classification-project/.venv/lib/python3.13/site-packages (from mlflow) (2.1.3)\n",
      "Requirement already satisfied: pandas<3 in /Users/nedday/Documents/All Projects /hand-sign-images-classification-project/hand-sign-images-classification-project/.venv/lib/python3.13/site-packages (from mlflow) (2.2.3)\n",
      "Requirement already satisfied: pyarrow<19,>=4.0.0 in /Users/nedday/Documents/All Projects /hand-sign-images-classification-project/hand-sign-images-classification-project/.venv/lib/python3.13/site-packages (from mlflow) (18.1.0)\n",
      "Requirement already satisfied: scikit-learn<2 in /Users/nedday/Documents/All Projects /hand-sign-images-classification-project/hand-sign-images-classification-project/.venv/lib/python3.13/site-packages (from mlflow) (1.5.2)\n",
      "Requirement already satisfied: scipy<2 in /Users/nedday/Documents/All Projects /hand-sign-images-classification-project/hand-sign-images-classification-project/.venv/lib/python3.13/site-packages (from mlflow) (1.14.1)\n",
      "Requirement already satisfied: sqlalchemy<3,>=1.4.0 in /Users/nedday/Documents/All Projects /hand-sign-images-classification-project/hand-sign-images-classification-project/.venv/lib/python3.13/site-packages (from mlflow) (2.0.36)\n",
      "Requirement already satisfied: Jinja2<4,>=2.11 in /Users/nedday/Documents/All Projects /hand-sign-images-classification-project/hand-sign-images-classification-project/.venv/lib/python3.13/site-packages (from mlflow) (3.1.4)\n",
      "Requirement already satisfied: gunicorn<24 in /Users/nedday/Documents/All Projects /hand-sign-images-classification-project/hand-sign-images-classification-project/.venv/lib/python3.13/site-packages (from mlflow) (23.0.0)\n",
      "Requirement already satisfied: cachetools<6,>=5.0.0 in /Users/nedday/Documents/All Projects /hand-sign-images-classification-project/hand-sign-images-classification-project/.venv/lib/python3.13/site-packages (from mlflow-skinny==2.18.0->mlflow) (5.5.0)\n",
      "Requirement already satisfied: click<9,>=7.0 in /Users/nedday/Documents/All Projects /hand-sign-images-classification-project/hand-sign-images-classification-project/.venv/lib/python3.13/site-packages (from mlflow-skinny==2.18.0->mlflow) (8.1.7)\n",
      "Requirement already satisfied: cloudpickle<4 in /Users/nedday/Documents/All Projects /hand-sign-images-classification-project/hand-sign-images-classification-project/.venv/lib/python3.13/site-packages (from mlflow-skinny==2.18.0->mlflow) (3.1.0)\n",
      "Requirement already satisfied: databricks-sdk<1,>=0.20.0 in /Users/nedday/Documents/All Projects /hand-sign-images-classification-project/hand-sign-images-classification-project/.venv/lib/python3.13/site-packages (from mlflow-skinny==2.18.0->mlflow) (0.38.0)\n",
      "Requirement already satisfied: gitpython<4,>=3.1.9 in /Users/nedday/Documents/All Projects /hand-sign-images-classification-project/hand-sign-images-classification-project/.venv/lib/python3.13/site-packages (from mlflow-skinny==2.18.0->mlflow) (3.1.43)\n",
      "Requirement already satisfied: importlib-metadata!=4.7.0,<9,>=3.7.0 in /Users/nedday/Documents/All Projects /hand-sign-images-classification-project/hand-sign-images-classification-project/.venv/lib/python3.13/site-packages (from mlflow-skinny==2.18.0->mlflow) (8.5.0)\n",
      "Requirement already satisfied: opentelemetry-api<3,>=1.9.0 in /Users/nedday/Documents/All Projects /hand-sign-images-classification-project/hand-sign-images-classification-project/.venv/lib/python3.13/site-packages (from mlflow-skinny==2.18.0->mlflow) (1.28.2)\n",
      "Requirement already satisfied: opentelemetry-sdk<3,>=1.9.0 in /Users/nedday/Documents/All Projects /hand-sign-images-classification-project/hand-sign-images-classification-project/.venv/lib/python3.13/site-packages (from mlflow-skinny==2.18.0->mlflow) (1.28.2)\n",
      "Requirement already satisfied: packaging<25 in /Users/nedday/Documents/All Projects /hand-sign-images-classification-project/hand-sign-images-classification-project/.venv/lib/python3.13/site-packages (from mlflow-skinny==2.18.0->mlflow) (24.2)\n",
      "Requirement already satisfied: protobuf<6,>=3.12.0 in /Users/nedday/Documents/All Projects /hand-sign-images-classification-project/hand-sign-images-classification-project/.venv/lib/python3.13/site-packages (from mlflow-skinny==2.18.0->mlflow) (5.29.1)\n",
      "Requirement already satisfied: pyyaml<7,>=5.1 in /Users/nedday/Documents/All Projects /hand-sign-images-classification-project/hand-sign-images-classification-project/.venv/lib/python3.13/site-packages (from mlflow-skinny==2.18.0->mlflow) (6.0.2)\n",
      "Requirement already satisfied: requests<3,>=2.17.3 in /Users/nedday/Documents/All Projects /hand-sign-images-classification-project/hand-sign-images-classification-project/.venv/lib/python3.13/site-packages (from mlflow-skinny==2.18.0->mlflow) (2.32.3)\n",
      "Requirement already satisfied: sqlparse<1,>=0.4.0 in /Users/nedday/Documents/All Projects /hand-sign-images-classification-project/hand-sign-images-classification-project/.venv/lib/python3.13/site-packages (from mlflow-skinny==2.18.0->mlflow) (0.5.2)\n",
      "Requirement already satisfied: Mako in /Users/nedday/Documents/All Projects /hand-sign-images-classification-project/hand-sign-images-classification-project/.venv/lib/python3.13/site-packages (from alembic!=1.10.0,<2->mlflow) (1.3.8)\n",
      "Requirement already satisfied: typing-extensions>=4 in /Users/nedday/Documents/All Projects /hand-sign-images-classification-project/hand-sign-images-classification-project/.venv/lib/python3.13/site-packages (from alembic!=1.10.0,<2->mlflow) (4.12.2)\n",
      "Requirement already satisfied: urllib3>=1.26.0 in /Users/nedday/Documents/All Projects /hand-sign-images-classification-project/hand-sign-images-classification-project/.venv/lib/python3.13/site-packages (from docker<8,>=4.0.0->mlflow) (2.2.3)\n",
      "Requirement already satisfied: Werkzeug>=3.1 in /Users/nedday/Documents/All Projects /hand-sign-images-classification-project/hand-sign-images-classification-project/.venv/lib/python3.13/site-packages (from Flask<4->mlflow) (3.1.3)\n",
      "Requirement already satisfied: itsdangerous>=2.2 in /Users/nedday/Documents/All Projects /hand-sign-images-classification-project/hand-sign-images-classification-project/.venv/lib/python3.13/site-packages (from Flask<4->mlflow) (2.2.0)\n",
      "Requirement already satisfied: blinker>=1.9 in /Users/nedday/Documents/All Projects /hand-sign-images-classification-project/hand-sign-images-classification-project/.venv/lib/python3.13/site-packages (from Flask<4->mlflow) (1.9.0)\n",
      "Requirement already satisfied: graphql-core<3.3,>=3.1 in /Users/nedday/Documents/All Projects /hand-sign-images-classification-project/hand-sign-images-classification-project/.venv/lib/python3.13/site-packages (from graphene<4->mlflow) (3.2.5)\n",
      "Requirement already satisfied: graphql-relay<3.3,>=3.1 in /Users/nedday/Documents/All Projects /hand-sign-images-classification-project/hand-sign-images-classification-project/.venv/lib/python3.13/site-packages (from graphene<4->mlflow) (3.2.0)\n",
      "Requirement already satisfied: python-dateutil<3,>=2.7.0 in /Users/nedday/Documents/All Projects /hand-sign-images-classification-project/hand-sign-images-classification-project/.venv/lib/python3.13/site-packages (from graphene<4->mlflow) (2.9.0.post0)\n",
      "Requirement already satisfied: MarkupSafe>=2.0 in /Users/nedday/Documents/All Projects /hand-sign-images-classification-project/hand-sign-images-classification-project/.venv/lib/python3.13/site-packages (from Jinja2<4,>=2.11->mlflow) (3.0.2)\n",
      "Requirement already satisfied: contourpy>=1.0.1 in /Users/nedday/Documents/All Projects /hand-sign-images-classification-project/hand-sign-images-classification-project/.venv/lib/python3.13/site-packages (from matplotlib<4->mlflow) (1.3.1)\n",
      "Requirement already satisfied: cycler>=0.10 in /Users/nedday/Documents/All Projects /hand-sign-images-classification-project/hand-sign-images-classification-project/.venv/lib/python3.13/site-packages (from matplotlib<4->mlflow) (0.12.1)\n",
      "Requirement already satisfied: fonttools>=4.22.0 in /Users/nedday/Documents/All Projects /hand-sign-images-classification-project/hand-sign-images-classification-project/.venv/lib/python3.13/site-packages (from matplotlib<4->mlflow) (4.55.2)\n",
      "Requirement already satisfied: kiwisolver>=1.3.1 in /Users/nedday/Documents/All Projects /hand-sign-images-classification-project/hand-sign-images-classification-project/.venv/lib/python3.13/site-packages (from matplotlib<4->mlflow) (1.4.7)\n",
      "Requirement already satisfied: pillow>=8 in /Users/nedday/Documents/All Projects /hand-sign-images-classification-project/hand-sign-images-classification-project/.venv/lib/python3.13/site-packages (from matplotlib<4->mlflow) (11.0.0)\n",
      "Requirement already satisfied: pyparsing>=2.3.1 in /Users/nedday/Documents/All Projects /hand-sign-images-classification-project/hand-sign-images-classification-project/.venv/lib/python3.13/site-packages (from matplotlib<4->mlflow) (3.2.0)\n",
      "Requirement already satisfied: pytz>=2020.1 in /Users/nedday/Documents/All Projects /hand-sign-images-classification-project/hand-sign-images-classification-project/.venv/lib/python3.13/site-packages (from pandas<3->mlflow) (2024.2)\n",
      "Requirement already satisfied: tzdata>=2022.7 in /Users/nedday/Documents/All Projects /hand-sign-images-classification-project/hand-sign-images-classification-project/.venv/lib/python3.13/site-packages (from pandas<3->mlflow) (2024.2)\n",
      "Requirement already satisfied: joblib>=1.2.0 in /Users/nedday/Documents/All Projects /hand-sign-images-classification-project/hand-sign-images-classification-project/.venv/lib/python3.13/site-packages (from scikit-learn<2->mlflow) (1.4.2)\n",
      "Requirement already satisfied: threadpoolctl>=3.1.0 in /Users/nedday/Documents/All Projects /hand-sign-images-classification-project/hand-sign-images-classification-project/.venv/lib/python3.13/site-packages (from scikit-learn<2->mlflow) (3.5.0)\n",
      "Requirement already satisfied: google-auth~=2.0 in /Users/nedday/Documents/All Projects /hand-sign-images-classification-project/hand-sign-images-classification-project/.venv/lib/python3.13/site-packages (from databricks-sdk<1,>=0.20.0->mlflow-skinny==2.18.0->mlflow) (2.36.0)\n",
      "Requirement already satisfied: gitdb<5,>=4.0.1 in /Users/nedday/Documents/All Projects /hand-sign-images-classification-project/hand-sign-images-classification-project/.venv/lib/python3.13/site-packages (from gitpython<4,>=3.1.9->mlflow-skinny==2.18.0->mlflow) (4.0.11)\n",
      "Requirement already satisfied: zipp>=3.20 in /Users/nedday/Documents/All Projects /hand-sign-images-classification-project/hand-sign-images-classification-project/.venv/lib/python3.13/site-packages (from importlib-metadata!=4.7.0,<9,>=3.7.0->mlflow-skinny==2.18.0->mlflow) (3.21.0)\n",
      "Requirement already satisfied: deprecated>=1.2.6 in /Users/nedday/Documents/All Projects /hand-sign-images-classification-project/hand-sign-images-classification-project/.venv/lib/python3.13/site-packages (from opentelemetry-api<3,>=1.9.0->mlflow-skinny==2.18.0->mlflow) (1.2.15)\n",
      "Requirement already satisfied: opentelemetry-semantic-conventions==0.49b2 in /Users/nedday/Documents/All Projects /hand-sign-images-classification-project/hand-sign-images-classification-project/.venv/lib/python3.13/site-packages (from opentelemetry-sdk<3,>=1.9.0->mlflow-skinny==2.18.0->mlflow) (0.49b2)\n",
      "Requirement already satisfied: six>=1.5 in /Users/nedday/Documents/All Projects /hand-sign-images-classification-project/hand-sign-images-classification-project/.venv/lib/python3.13/site-packages (from python-dateutil<3,>=2.7.0->graphene<4->mlflow) (1.17.0)\n",
      "Requirement already satisfied: charset-normalizer<4,>=2 in /Users/nedday/Documents/All Projects /hand-sign-images-classification-project/hand-sign-images-classification-project/.venv/lib/python3.13/site-packages (from requests<3,>=2.17.3->mlflow-skinny==2.18.0->mlflow) (3.4.0)\n",
      "Requirement already satisfied: idna<4,>=2.5 in /Users/nedday/Documents/All Projects /hand-sign-images-classification-project/hand-sign-images-classification-project/.venv/lib/python3.13/site-packages (from requests<3,>=2.17.3->mlflow-skinny==2.18.0->mlflow) (3.10)\n",
      "Requirement already satisfied: certifi>=2017.4.17 in /Users/nedday/Documents/All Projects /hand-sign-images-classification-project/hand-sign-images-classification-project/.venv/lib/python3.13/site-packages (from requests<3,>=2.17.3->mlflow-skinny==2.18.0->mlflow) (2024.8.30)\n",
      "Requirement already satisfied: wrapt<2,>=1.10 in /Users/nedday/Documents/All Projects /hand-sign-images-classification-project/hand-sign-images-classification-project/.venv/lib/python3.13/site-packages (from deprecated>=1.2.6->opentelemetry-api<3,>=1.9.0->mlflow-skinny==2.18.0->mlflow) (1.17.0)\n",
      "Requirement already satisfied: smmap<6,>=3.0.1 in /Users/nedday/Documents/All Projects /hand-sign-images-classification-project/hand-sign-images-classification-project/.venv/lib/python3.13/site-packages (from gitdb<5,>=4.0.1->gitpython<4,>=3.1.9->mlflow-skinny==2.18.0->mlflow) (5.0.1)\n",
      "Requirement already satisfied: pyasn1-modules>=0.2.1 in /Users/nedday/Documents/All Projects /hand-sign-images-classification-project/hand-sign-images-classification-project/.venv/lib/python3.13/site-packages (from google-auth~=2.0->databricks-sdk<1,>=0.20.0->mlflow-skinny==2.18.0->mlflow) (0.4.1)\n",
      "Requirement already satisfied: rsa<5,>=3.1.4 in /Users/nedday/Documents/All Projects /hand-sign-images-classification-project/hand-sign-images-classification-project/.venv/lib/python3.13/site-packages (from google-auth~=2.0->databricks-sdk<1,>=0.20.0->mlflow-skinny==2.18.0->mlflow) (4.9)\n",
      "Requirement already satisfied: pyasn1<0.7.0,>=0.4.6 in /Users/nedday/Documents/All Projects /hand-sign-images-classification-project/hand-sign-images-classification-project/.venv/lib/python3.13/site-packages (from pyasn1-modules>=0.2.1->google-auth~=2.0->databricks-sdk<1,>=0.20.0->mlflow-skinny==2.18.0->mlflow) (0.6.1)\n",
      "Note: you may need to restart the kernel to use updated packages.\n"
     ]
    }
   ],
   "source": [
    "pip install mlflow"
   ]
  },
  {
   "cell_type": "code",
   "execution_count": 9,
   "metadata": {
    "colab": {
     "base_uri": "https://localhost:8080/"
    },
    "id": "o1SkrU6WIElM",
    "outputId": "226ce484-00d6-465b-a1e0-af567989d4b6"
   },
   "outputs": [
    {
     "name": "stderr",
     "output_type": "stream",
     "text": [
      "2024/12/10 20:02:01 INFO mlflow.tracking.fluent: Experiment with name 'hand_sign_classifier_knn' does not exist. Creating a new experiment.\n"
     ]
    },
    {
     "data": {
      "text/plain": [
       "<Experiment: artifact_location=('/Users/nedday/Documents/All Projects '\n",
       " '/hand-sign-images-classification-project/hand-sign-images-classification-project/Knn_WithMlflow/mlruns/206757957583898682'), creation_time=1733857321485, experiment_id='206757957583898682', last_update_time=1733857321485, lifecycle_stage='active', name='hand_sign_classifier_knn', tags={}>"
      ]
     },
     "execution_count": 9,
     "metadata": {},
     "output_type": "execute_result"
    }
   ],
   "source": [
    "\n",
    "import mlflow\n",
    "import mlflow.sklearn\n",
    "import mlflow\n",
    "mlflow.set_experiment(\"hand_sign_classifier_knn\")\n"
   ]
  },
  {
   "cell_type": "code",
   "execution_count": 10,
   "metadata": {
    "colab": {
     "base_uri": "https://localhost:8080/"
    },
    "id": "DhMnnftQg2WN",
    "outputId": "0d813500-372f-415c-c6c4-11e4a2b3c802"
   },
   "outputs": [
    {
     "name": "stdout",
     "output_type": "stream",
     "text": [
      "Path to dataset files: /Users/nedday/.cache/kagglehub/datasets/furkanakdeniz/asl-handsign-dataset-grayscaled-thresholded/versions/1\n"
     ]
    }
   ],
   "source": [
    "import kagglehub\n",
    "\n",
    "# Download latest version\n",
    "path = kagglehub.dataset_download(\"furkanakdeniz/asl-handsign-dataset-grayscaled-thresholded\")\n",
    "\n",
    "print(\"Path to dataset files:\", path)"
   ]
  },
  {
   "cell_type": "code",
   "execution_count": null,
   "metadata": {
    "id": "RKnVTz5IfrCV"
   },
   "outputs": [],
   "source": [
    "import os\n",
    "import numpy as np\n",
    "from sklearn.neighbors import KNeighborsClassifier\n",
    "from sklearn.metrics import classification_report, accuracy_score\n",
    "from sklearn.model_selection import train_test_split, GridSearchCV\n",
    "import joblib\n",
    "import matplotlib.pyplot as plt\n",
    "import cv2  # Pour redimensionner les images\n",
    "\n",
    "# Chemin vers le dataset\n",
    "dataset_path = \"/Users/nedday/.cache/kagglehub/datasets/furkanakdeniz/asl-handsign-dataset-grayscaled-thresholded/versions/1/asl-dataset/asl-dataset\"\n",
    "# Alphabets disponibles dans le dataset\n",
    "alphabet_array = ['A', 'B', 'C', 'D', 'E', 'F', 'G', 'H', 'I', 'K', 'L', 'M', 'N', 'O', 'P', 'Q', 'R', 'S', 'T', 'U', 'V', 'W', 'X', 'Y']\n",
    "\n",
    "# Charger les images et leurs étiquettes\n",
    "image_arr = []\n",
    "image_name_value = []\n",
    "\n",
    "# Taille cible pour toutes les images\n",
    "target_size = (28, 28)\n",
    "\n",
    "for letter in alphabet_array:\n",
    "    path_letter = os.path.join(dataset_path, \"train\", letter)\n",
    "    if not os.path.exists(path_letter):\n",
    "        print(f\"Le dossier {path_letter} n'existe pas.\")\n",
    "        continue\n",
    "\n",
    "    for image_name in os.listdir(path_letter):\n",
    "        image_path = os.path.join(path_letter, image_name)\n",
    "        # Charger et redimensionner l'image\n",
    "        image = plt.imread(image_path)  # Charger l'image\n",
    "        if image.ndim == 3:  # Convertir en niveau de gris si l'image est RGB\n",
    "            image = cv2.cvtColor(image, cv2.COLOR_RGB2GRAY)\n",
    "        resized_image = cv2.resize(image, target_size)  # Redimensionner\n",
    "        image_arr.append(resized_image.flatten())  # Aplatir et ajouter à la liste\n",
    "        image_name_value.append(letter)"
   ]
  },
  {
   "cell_type": "code",
   "execution_count": 12,
   "metadata": {
    "id": "YryZVOvOf8IW"
   },
   "outputs": [],
   "source": [
    "# Conversion en tableaux numpy\n",
    "X_data = np.array(image_arr)\n",
    "y_data = np.array(image_name_value)\n",
    "\n",
    "# Créer un mapping des étiquettes vers des entiers\n",
    "label_to_int = {label: idx for idx, label in enumerate(np.unique(y_data))}\n",
    "y_data = np.array([label_to_int[label] for label in y_data])\n",
    "\n",
    "# Diviser les données en ensembles d'entraînement et de test\n",
    "X_train, X_test, y_train, y_test = train_test_split(X_data, y_data, test_size=0.2, random_state=42)\n"
   ]
  },
  {
   "cell_type": "code",
   "execution_count": 13,
   "metadata": {
    "colab": {
     "base_uri": "https://localhost:8080/",
     "height": 1000
    },
    "id": "MRwq1uG5KY-6",
    "outputId": "4388d16c-2938-4252-e047-a52ff95c2c78"
   },
   "outputs": [
    {
     "name": "stdout",
     "output_type": "stream",
     "text": [
      "Run Version_0 started with n_neighbors=3, weights=uniform, metric=euclidean\n"
     ]
    },
    {
     "name": "stderr",
     "output_type": "stream",
     "text": [
      "2024/12/10 20:02:34 WARNING mlflow.models.model: Model logged without a signature and input example. Please set `input_example` parameter when logging the model to auto infer the model signature.\n"
     ]
    },
    {
     "name": "stdout",
     "output_type": "stream",
     "text": [
      "Run Version_0 completed with accuracy=0.9874, precision=0.9876. Execution time: 2.09 seconds.\n",
      "Run Version_1 started with n_neighbors=3, weights=uniform, metric=manhattan\n"
     ]
    },
    {
     "name": "stderr",
     "output_type": "stream",
     "text": [
      "2024/12/10 20:03:29 WARNING mlflow.models.model: Model logged without a signature and input example. Please set `input_example` parameter when logging the model to auto infer the model signature.\n"
     ]
    },
    {
     "name": "stdout",
     "output_type": "stream",
     "text": [
      "Run Version_1 completed with accuracy=0.9837, precision=0.9840. Execution time: 54.19 seconds.\n",
      "Run Version_2 started with n_neighbors=3, weights=distance, metric=euclidean\n"
     ]
    },
    {
     "name": "stderr",
     "output_type": "stream",
     "text": [
      "2024/12/10 20:03:32 WARNING mlflow.models.model: Model logged without a signature and input example. Please set `input_example` parameter when logging the model to auto infer the model signature.\n"
     ]
    },
    {
     "name": "stdout",
     "output_type": "stream",
     "text": [
      "Run Version_2 completed with accuracy=0.9902, precision=0.9903. Execution time: 2.00 seconds.\n",
      "Run Version_3 started with n_neighbors=3, weights=distance, metric=manhattan\n"
     ]
    },
    {
     "name": "stderr",
     "output_type": "stream",
     "text": [
      "2024/12/10 20:04:28 WARNING mlflow.models.model: Model logged without a signature and input example. Please set `input_example` parameter when logging the model to auto infer the model signature.\n"
     ]
    },
    {
     "name": "stdout",
     "output_type": "stream",
     "text": [
      "Run Version_3 completed with accuracy=0.9877, precision=0.9879. Execution time: 53.91 seconds.\n",
      "Run Version_4 started with n_neighbors=5, weights=uniform, metric=euclidean\n"
     ]
    },
    {
     "name": "stderr",
     "output_type": "stream",
     "text": [
      "2024/12/10 20:04:32 WARNING mlflow.models.model: Model logged without a signature and input example. Please set `input_example` parameter when logging the model to auto infer the model signature.\n"
     ]
    },
    {
     "name": "stdout",
     "output_type": "stream",
     "text": [
      "Run Version_4 completed with accuracy=0.9779, precision=0.9784. Execution time: 3.21 seconds.\n",
      "Run Version_5 started with n_neighbors=5, weights=uniform, metric=manhattan\n"
     ]
    },
    {
     "name": "stderr",
     "output_type": "stream",
     "text": [
      "2024/12/10 20:05:28 WARNING mlflow.models.model: Model logged without a signature and input example. Please set `input_example` parameter when logging the model to auto infer the model signature.\n"
     ]
    },
    {
     "name": "stdout",
     "output_type": "stream",
     "text": [
      "Run Version_5 completed with accuracy=0.9729, precision=0.9737. Execution time: 54.57 seconds.\n",
      "Run Version_6 started with n_neighbors=5, weights=distance, metric=euclidean\n"
     ]
    },
    {
     "name": "stderr",
     "output_type": "stream",
     "text": [
      "2024/12/10 20:05:33 WARNING mlflow.models.model: Model logged without a signature and input example. Please set `input_example` parameter when logging the model to auto infer the model signature.\n"
     ]
    },
    {
     "name": "stdout",
     "output_type": "stream",
     "text": [
      "Run Version_6 completed with accuracy=0.9844, precision=0.9847. Execution time: 3.15 seconds.\n",
      "Run Version_7 started with n_neighbors=5, weights=distance, metric=manhattan\n"
     ]
    },
    {
     "name": "stderr",
     "output_type": "stream",
     "text": [
      "2024/12/10 20:06:29 WARNING mlflow.models.model: Model logged without a signature and input example. Please set `input_example` parameter when logging the model to auto infer the model signature.\n"
     ]
    },
    {
     "name": "stdout",
     "output_type": "stream",
     "text": [
      "Run Version_7 completed with accuracy=0.9817, precision=0.9822. Execution time: 55.18 seconds.\n",
      "Run Version_8 started with n_neighbors=7, weights=uniform, metric=euclidean\n"
     ]
    },
    {
     "name": "stderr",
     "output_type": "stream",
     "text": [
      "2024/12/10 20:06:33 WARNING mlflow.models.model: Model logged without a signature and input example. Please set `input_example` parameter when logging the model to auto infer the model signature.\n"
     ]
    },
    {
     "name": "stdout",
     "output_type": "stream",
     "text": [
      "Run Version_8 completed with accuracy=0.9692, precision=0.9703. Execution time: 3.30 seconds.\n",
      "Run Version_9 started with n_neighbors=7, weights=uniform, metric=manhattan\n"
     ]
    },
    {
     "name": "stderr",
     "output_type": "stream",
     "text": [
      "2024/12/10 20:07:30 WARNING mlflow.models.model: Model logged without a signature and input example. Please set `input_example` parameter when logging the model to auto infer the model signature.\n"
     ]
    },
    {
     "name": "stdout",
     "output_type": "stream",
     "text": [
      "Run Version_9 completed with accuracy=0.9649, precision=0.9662. Execution time: 55.14 seconds.\n",
      "Run Version_10 started with n_neighbors=7, weights=distance, metric=euclidean\n"
     ]
    },
    {
     "name": "stderr",
     "output_type": "stream",
     "text": [
      "2024/12/10 20:07:34 WARNING mlflow.models.model: Model logged without a signature and input example. Please set `input_example` parameter when logging the model to auto infer the model signature.\n"
     ]
    },
    {
     "name": "stdout",
     "output_type": "stream",
     "text": [
      "Run Version_10 completed with accuracy=0.9784, precision=0.9789. Execution time: 3.29 seconds.\n",
      "Run Version_11 started with n_neighbors=7, weights=distance, metric=manhattan\n"
     ]
    },
    {
     "name": "stderr",
     "output_type": "stream",
     "text": [
      "2024/12/10 20:08:31 WARNING mlflow.models.model: Model logged without a signature and input example. Please set `input_example` parameter when logging the model to auto infer the model signature.\n"
     ]
    },
    {
     "name": "stdout",
     "output_type": "stream",
     "text": [
      "Run Version_11 completed with accuracy=0.9765, precision=0.9772. Execution time: 55.55 seconds.\n"
     ]
    }
   ],
   "source": [
    "from sklearn.neighbors import KNeighborsClassifier\n",
    "from sklearn.metrics import classification_report, accuracy_score, precision_score\n",
    "import joblib\n",
    "import mlflow\n",
    "import mlflow.sklearn\n",
    "import itertools\n",
    "import time\n",
    "\n",
    "# Configurer MLflow pour stocker les logs localement\n",
    "mlflow.set_tracking_uri(\"mlruns\")\n",
    "\n",
    "# Paramètres à tester dans GridSearch\n",
    "param_grid = {\n",
    "    'n_neighbors': [3, 5, 7],\n",
    "    'weights': ['uniform', 'distance'],\n",
    "    'metric': ['euclidean', 'manhattan']\n",
    "}\n",
    "\n",
    "# Générer toutes les combinaisons possibles de paramètres\n",
    "param_combinations = list(itertools.product(\n",
    "    param_grid['n_neighbors'],\n",
    "    param_grid['weights'],\n",
    "    param_grid['metric']\n",
    "))\n",
    "\n",
    "# Variables pour suivre le meilleur modèle\n",
    "best_accuracy = 0\n",
    "best_model = None\n",
    "best_params = {}\n",
    "i = 0\n",
    "\n",
    "# Boucle sur chaque combinaison de paramètres\n",
    "for params in param_combinations:\n",
    "    n_neighbors, weights, metric = params\n",
    "    with mlflow.start_run(run_name=f\"Version_{i}\") as run:\n",
    "        # Ajouter un tag avec le numéro de version\n",
    "        mlflow.set_tag(\"version\", f\"Version_{i}\")\n",
    "        mlflow.set_tag(\"model_type\", \"KNeighborsClassifier\")\n",
    "\n",
    "\n",
    "        # Entraînement du modèle\n",
    "        start_time = time.time()\n",
    "        print(f\"Run Version_{i} started with n_neighbors={n_neighbors}, weights={weights}, metric={metric}\")\n",
    "        model = KNeighborsClassifier(n_neighbors=n_neighbors, weights=weights, metric=metric)\n",
    "        model.fit(X_train, y_train)\n",
    "        y_pred = model.predict(X_test)\n",
    "        execution_time = time.time() - start_time\n",
    "\n",
    "        # Enregistrement du modèle\n",
    "        mlflow.sklearn.log_model(model, \"KNN\")\n",
    "\n",
    "        # Calcul des métriques\n",
    "        accuracy = accuracy_score(y_test, y_pred)\n",
    "        precision = precision_score(y_test, y_pred, average=\"weighted\")\n",
    "        mlflow.log_params({'n_neighbors': n_neighbors, 'weights': weights, 'metric': metric})\n",
    "        mlflow.log_metric(\"test_accuracy\", accuracy)\n",
    "        mlflow.log_metric(\"precision\", precision)\n",
    "        mlflow.log_metric(\"execution_time\", execution_time)\n",
    "\n",
    "        # Sauvegarder le modèle pour chaque run\n",
    "        model_filename = f\"knn_model_version_{i}.pkl\"\n",
    "        joblib.dump(model, model_filename)\n",
    "        mlflow.log_artifact(model_filename)\n",
    "\n",
    "        # Vérifier si ce modèle est le meilleur\n",
    "        if accuracy > best_accuracy:\n",
    "            best_accuracy = accuracy\n",
    "            best_model = model\n",
    "            best_params = {'n_neighbors': n_neighbors, 'weights': weights, 'metric': metric}\n",
    "\n",
    "        print(f\"Run Version_{i} completed with accuracy={accuracy:.4f}, precision={precision:.4f}. Execution time: {execution_time:.2f} seconds.\")\n",
    "        i += 1  # Incrémenter la version\n",
    "\n",
    "# Sauvegarder le meilleur modèle\n",
    "#best_model_filename = \"knn_best_model.pkl\"\n",
    "#joblib.dump(best_model, best_model_filename)\n",
    "#print(f\"Meilleur modèle sauvegardé sous : {best_model_filename}\")\n",
    "\n",
    "# Télécharger le répertoire MLflow pour une visualisation locale\n",
    "#print(\"Compression des logs MLflow...\")\n",
    "#!zip -r mlruns.zip /content/mlruns\n"
   ]
  },
  {
   "cell_type": "code",
   "execution_count": 18,
   "metadata": {},
   "outputs": [
    {
     "data": {
      "image/png": "[encoded data removed]",
      "text/plain": [
       "<Figure size 800x600 with 2 Axes>"
      ]
     },
     "metadata": {},
     "output_type": "display_data"
    }
   ],
   "source": [
    "from sklearn.metrics import confusion_matrix\n",
    "import seaborn as sns\n",
    "import matplotlib.pyplot as plt\n",
    "import numpy as np\n",
    "\n",
    "# Calculer la matrice de confusion\n",
    "cm = confusion_matrix(y_test, y_pred)\n",
    "\n",
    "# Affichage de la matrice de confusion\n",
    "plt.figure(figsize=(8, 6))\n",
    "sns.heatmap(cm, annot=True, fmt='d', cmap='Blues', xticklabels=np.unique(y_test), yticklabels=np.unique(y_test))\n",
    "plt.xlabel('Predicted Labels')\n",
    "plt.ylabel('True Labels')\n",
    "plt.title(f\"Confusion Matrix\")\n",
    "plt.show()\n"
   ]
  },
  {
   "attachments": {},
   "cell_type": "markdown",
   "metadata": {},
   "source": [
    "## Manage model versions"
   ]
  },
  {
   "cell_type": "code",
   "execution_count": 15,
   "metadata": {},
   "outputs": [
    {
     "name": "stderr",
     "output_type": "stream",
     "text": [
      "2024/12/09 22:46:20 WARNING mlflow.models.model: Model logged without a signature and input example. Please set `input_example` parameter when logging the model to auto infer the model signature.\n"
     ]
    },
    {
     "name": "stdout",
     "output_type": "stream",
     "text": [
      "Le modèle est enregistré sous le nom 'KNN_Model' avec la version 1.\n"
     ]
    },
    {
     "name": "stderr",
     "output_type": "stream",
     "text": [
      "Successfully registered model 'KNN_Model'.\n",
      "Created version '1' of model 'KNN_Model'.\n",
      "/var/folders/zk/pf_lp1yn7wd1lbr8mwy593rc0000gn/T/ipykernel_23631/2568249302.py:27: FutureWarning: ``mlflow.tracking.client.MlflowClient.transition_model_version_stage`` is deprecated since 2.9.0. Model registry stages will be removed in a future major release. To learn more about the deprecation of model registry stages, see our migration guide here: https://mlflow.org/docs/latest/model-registry.html#migrating-from-stages\n",
      "  client.transition_model_version_stage(\n"
     ]
    }
   ],
   "source": [
    "import mlflow\n",
    "from mlflow.tracking import MlflowClient\n",
    "\n",
    "# Nom unique pour le modèle dans le registre\n",
    "model_name = \"KNN_Model\"\n",
    "\n",
    "# Enregistrement du meilleur modèle\n",
    "mlflow.set_tracking_uri(\"mlruns\")\n",
    "client = MlflowClient()\n",
    "\n",
    "# Démarrer une nouvelle session MLflow pour le meilleur modèle\n",
    "with mlflow.start_run(run_name=\"Best_Model_Registration\") as run:\n",
    "    # Loguer le meilleur modèle dans cette nouvelle session\n",
    "    mlflow.sklearn.log_model(best_model, \"best_knn_model\")\n",
    "\n",
    "    # Enregistrement dans le Model Registry\n",
    "    model_uri = f\"runs:/{run.info.run_id}/best_knn_model\"\n",
    "    registered_model = mlflow.register_model(model_uri, model_name)\n",
    "\n",
    "    # Ajouter une description au modèle\n",
    "    client.update_registered_model(\n",
    "        name=model_name,\n",
    "        description=\"KNN Classifier trained on hand sign dataset with optimized hyperparameters.\",\n",
    "    )\n",
    "\n",
    "    # Ajouter une version et un tag\n",
    "    client.transition_model_version_stage(\n",
    "        name=model_name,\n",
    "        version=registered_model.version,\n",
    "        stage=\"Production\",  # ou \"Staging\" si besoin\n",
    "    )\n",
    "\n",
    "    print(f\"Le modèle est enregistré sous le nom '{model_name}' avec la version {registered_model.version}.\")\n"
   ]
  },
  {
   "attachments": {},
   "cell_type": "markdown",
   "metadata": {},
   "source": []
  },
  {
   "cell_type": "code",
   "execution_count": null,
   "metadata": {
    "id": "zhGLvTp2P44B"
   },
   "outputs": [
    {
     "name": "stdout",
     "output_type": "stream",
     "text": [
      "Prédiction (lettre) : V\n"
     ]
    }
   ],
   "source": [
    "import requests\n",
    "import json\n",
    "\n",
    "# Fonction pour convertir un numéro en lettre de l'alphabet\n",
    "def number_to_letter(number):\n",
    "    # Vérifier que le nombre est dans la plage de 1 à 24 (pour les lettres de A à Z)\n",
    "    if 1 <= number <= 24:\n",
    "        return chr(64 + number)  # 'A' est le caractère ASCII 65, donc 64 + number donne la lettre\n",
    "    else:\n",
    "        return None  # Gérer les cas où le numéro dépasse 24\n",
    "\n",
    "# Supposons que 'X_test' contient des images\n",
    "sample_image = X_test[0]  # Sélection de la première image\n",
    "\n",
    "# Convertir l'image en liste pour la sérialisation JSON\n",
    "input_data = {\n",
    "    \"inputs\": [sample_image.tolist()]  # Ajouter des crochets pour obtenir un tableau 4D\n",
    "}\n",
    "\n",
    "url = \"http://127.0.0.1:8989/invocations\"  \n",
    "\n",
    "# Envoi de la requête POST\n",
    "headers = {\"Content-Type\": \"application/json\"}\n",
    "response = requests.post(url, headers=headers, data=json.dumps(input_data))\n",
    "\n",
    "# Affichage du résultat de la prédiction\n",
    "if response.status_code == 200:\n",
    "    prediction = response.json()\n",
    "    predicted_number = prediction['predictions'][0]  # Récupérer le premier élément de la prédiction\n",
    "    predicted_letter = number_to_letter(predicted_number)  # Convertir en lettre\n",
    "    print(\"Prédiction (lettre) :\", predicted_letter)\n",
    "else:\n",
    "    print(\"Erreur :\", response.status_code, response.text)\n"
   ]
  },
  {
   "cell_type": "code",
   "execution_count": null,
   "metadata": {},
   "outputs": [],
   "source": []
  }
 ],
 "metadata": {
  "accelerator": "GPU",
  "colab": {
   "gpuType": "T4",
   "provenance": []
  },
  "kernelspec": {
   "display_name": ".venv",
   "language": "python",
   "name": "python3"
  },
  "language_info": {
   "codemirror_mode": {
    "name": "ipython",
    "version": 3
   },
   "file_extension": ".py",
   "mimetype": "text/x-python",
   "name": "python",
   "nbconvert_exporter": "python",
   "pygments_lexer": "ipython3",
   "version": "3.13.0"
  }
 },
 "nbformat": 4,
 "nbformat_minor": 0
}
