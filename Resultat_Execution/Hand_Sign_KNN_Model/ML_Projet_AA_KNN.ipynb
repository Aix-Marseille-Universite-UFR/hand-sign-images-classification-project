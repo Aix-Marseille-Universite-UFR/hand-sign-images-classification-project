{
  "cells": [
    {
      "cell_type": "code",
      "execution_count": 3,
      "metadata": {
        "colab": {
          "base_uri": "https://localhost:8080/"
        },
        "id": "DhMnnftQg2WN",
        "outputId": "aec71161-9caf-4a47-c10a-5d7e0df153d0"
      },
      "outputs": [
        {
          "name": "stderr",
          "output_type": "stream",
          "text": [
            "/Users/mohamed-amine_kenzeddine/opt/anaconda3/envs/Tp1/lib/python3.9/site-packages/tqdm/auto.py:21: TqdmWarning: IProgress not found. Please update jupyter and ipywidgets. See https://ipywidgets.readthedocs.io/en/stable/user_install.html\n",
            "  from .autonotebook import tqdm as notebook_tqdm\n"
          ]
        },
        {
          "name": "stdout",
          "output_type": "stream",
          "text": [
            "Path to dataset files: /Users/mohamed-amine_kenzeddine/.cache/kagglehub/datasets/furkanakdeniz/asl-handsign-dataset-grayscaled-thresholded/versions/1\n"
          ]
        }
      ],
      "source": [
        "import kagglehub\n",
        "\n",
        "# Download latest version\n",
        "path = kagglehub.dataset_download(\"furkanakdeniz/asl-handsign-dataset-grayscaled-thresholded\")\n",
        "\n",
        "print(\"Path to dataset files:\", path)"
      ]
    },
    {
      "cell_type": "code",
      "execution_count": 4,
      "metadata": {
        "id": "RKnVTz5IfrCV"
      },
      "outputs": [],
      "source": [
        "import os\n",
        "import numpy as np\n",
        "from sklearn.neighbors import KNeighborsClassifier\n",
        "from sklearn.metrics import classification_report, accuracy_score\n",
        "from sklearn.model_selection import train_test_split, GridSearchCV\n",
        "import joblib\n",
        "import matplotlib.pyplot as plt\n",
        "import cv2  # Pour redimensionner les images\n",
        "\n",
        "# Chemin vers le dataset\n",
        "dataset_path = r\"/Users/mohamed-amine_kenzeddine/.cache/kagglehub/datasets/furkanakdeniz/asl-handsign-dataset-grayscaled-thresholded/versions/1/asl-dataset/asl-dataset\"\n",
        "\n",
        "# Alphabets disponibles dans le dataset\n",
        "alphabet_array = ['A', 'B', 'C', 'D', 'E', 'F', 'G', 'H', 'I', 'K', 'L', 'M', 'N', 'O', 'P', 'Q', 'R', 'S', 'T', 'U', 'V', 'W', 'X', 'Y']\n",
        "\n",
        "# Charger les images et leurs étiquettes\n",
        "image_arr = []\n",
        "image_name_value = []\n",
        "\n",
        "# Taille cible pour toutes les images\n",
        "target_size = (28, 28)\n",
        "\n",
        "for letter in alphabet_array:\n",
        "    path_letter = os.path.join(dataset_path, \"train\", letter)\n",
        "    if not os.path.exists(path_letter):\n",
        "        print(f\"Le dossier {path_letter} n'existe pas.\")\n",
        "        continue\n",
        "\n",
        "    for image_name in os.listdir(path_letter):\n",
        "        image_path = os.path.join(path_letter, image_name)\n",
        "        # Charger et redimensionner l'image\n",
        "        image = plt.imread(image_path)  # Charger l'image\n",
        "        if image.ndim == 3:  # Convertir en niveau de gris si l'image est RGB\n",
        "            image = cv2.cvtColor(image, cv2.COLOR_RGB2GRAY)\n",
        "        resized_image = cv2.resize(image, target_size)  # Redimensionner\n",
        "        image_arr.append(resized_image.flatten())  # Aplatir et ajouter à la liste\n",
        "        image_name_value.append(letter)"
      ]
    },
    {
      "cell_type": "code",
      "execution_count": 5,
      "metadata": {
        "id": "YryZVOvOf8IW"
      },
      "outputs": [],
      "source": [
        "# Conversion en tableaux numpy\n",
        "X_data = np.array(image_arr)\n",
        "y_data = np.array(image_name_value)\n",
        "\n",
        "# Créer un mapping des étiquettes vers des entiers\n",
        "label_to_int = {label: idx for idx, label in enumerate(np.unique(y_data))}\n",
        "y_data = np.array([label_to_int[label] for label in y_data])\n",
        "\n",
        "# Diviser les données en ensembles d'entraînement et de test\n",
        "X_train, X_test, y_train, y_test = train_test_split(X_data, y_data, test_size=0.2, random_state=42)\n"
      ]
    },
    {
      "cell_type": "code",
      "execution_count": 4,
      "metadata": {
        "colab": {
          "base_uri": "https://localhost:8080/"
        },
        "id": "dfaX7aTlgVhX",
        "outputId": "61f19505-8f2a-47e7-aa98-83f5c4b00c91"
      },
      "outputs": [
        {
          "name": "stdout",
          "output_type": "stream",
          "text": [
            "Lancement de la recherche d'hyperparamètres...\n",
            "Fitting 3 folds for each of 12 candidates, totalling 36 fits\n"
          ]
        },
        {
          "name": "stderr",
          "output_type": "stream",
          "text": [
            "/usr/local/lib/python3.10/dist-packages/numpy/ma/core.py:2820: RuntimeWarning: invalid value encountered in cast\n",
            "  _data = np.array(data, dtype=dtype, copy=copy,\n"
          ]
        },
        {
          "name": "stdout",
          "output_type": "stream",
          "text": [
            "Meilleurs hyperparamètres : {'metric': 'euclidean', 'n_neighbors': 3, 'weights': 'distance'}\n",
            "Meilleure précision moyenne : 0.9797\n",
            "Précision sur les données de test : 0.9908\n",
            "\n",
            "Rapport de classification :\n",
            "               precision    recall  f1-score   support\n",
            "\n",
            "           0       1.00      0.99      1.00       222\n",
            "           1       0.98      1.00      0.99       248\n",
            "           2       1.00      0.99      0.99       241\n",
            "           3       0.98      1.00      0.99       322\n",
            "           4       0.99      0.99      0.99       297\n",
            "           5       0.99      0.99      0.99       306\n",
            "           6       1.00      1.00      1.00       154\n",
            "           7       0.99      1.00      0.99       257\n",
            "           8       0.99      0.99      0.99       274\n",
            "           9       0.97      1.00      0.98       296\n",
            "          10       0.99      1.00      0.99       255\n",
            "          11       0.98      0.99      0.98       280\n",
            "          12       1.00      0.98      0.99       278\n",
            "          13       0.99      0.98      0.98       173\n",
            "          14       1.00      0.98      0.99       212\n",
            "          15       1.00      0.97      0.99       188\n",
            "          16       0.99      1.00      1.00       257\n",
            "          17       1.00      0.99      0.99       211\n",
            "          18       1.00      0.98      0.99       241\n",
            "          19       1.00      0.98      0.99       294\n",
            "          20       1.00      0.99      1.00       273\n",
            "          21       1.00      0.99      0.99       208\n",
            "          22       0.98      0.99      0.99       242\n",
            "          23       1.00      1.00      1.00       281\n",
            "\n",
            "    accuracy                           0.99      6010\n",
            "   macro avg       0.99      0.99      0.99      6010\n",
            "weighted avg       0.99      0.99      0.99      6010\n",
            "\n",
            "Meilleur modèle KNN sauvegardé sous : /content/knn_hand_sign_best_model.pkl\n"
          ]
        }
      ],
      "source": [
        "# Paramètres pour GridSearch\n",
        "param_grid = {\n",
        "    'n_neighbors': [3, 5, 7],  # Nombre de voisins à considérer\n",
        "    'weights': ['uniform', 'distance'],  # Poids des voisins\n",
        "    'metric': ['euclidean', 'manhattan']  # Différentes métriques de distance\n",
        "}\n",
        "\n",
        "# Initialiser le modèle KNN\n",
        "knn_model = KNeighborsClassifier()\n",
        "\n",
        "# Configurer le GridSearch\n",
        "grid_search = GridSearchCV(\n",
        "    estimator=knn_model,\n",
        "    param_grid=param_grid,\n",
        "    scoring='accuracy',  # Critère pour évaluer les modèles\n",
        "    cv=3,                # Validation croisée à 3 plis\n",
        "    verbose=2,           # Afficher la progression\n",
        "    n_jobs=-1            # Utiliser tous les cœurs disponibles\n",
        ")\n",
        "\n",
        "# Lancer la recherche\n",
        "print(\"Lancement de la recherche d'hyperparamètres...\")\n",
        "grid_search.fit(X_train, y_train)\n",
        "\n",
        "# Résultats du GridSearch\n",
        "best_params = grid_search.best_params_\n",
        "best_score = grid_search.best_score_\n",
        "print(f\"Meilleurs hyperparamètres : {best_params}\")\n",
        "print(f\"Meilleure précision moyenne : {best_score:.4f}\")\n",
        "\n",
        "# Évaluer le meilleur modèle sur les données de test\n",
        "best_model = grid_search.best_estimator_\n",
        "y_pred = best_model.predict(X_test)\n",
        "accuracy = accuracy_score(y_test, y_pred)\n",
        "print(f\"Précision sur les données de test : {accuracy:.4f}\")\n",
        "print(\"\\nRapport de classification :\\n\", classification_report(y_test, y_pred))\n",
        "\n",
        "# Sauvegarder le meilleur modèle\n",
        "model_filename = \"knn_hand_sign_best_model.pkl\"\n",
        "joblib.dump(best_model, model_filename)\n",
        "\n",
        "# Imprimer le chemin absolu du fichier créé\n",
        "model_path = os.path.abspath(model_filename)\n",
        "print(f\"Meilleur modèle KNN sauvegardé sous : {model_path}\")"
      ]
    },
    {
      "cell_type": "code",
      "execution_count": 6,
      "metadata": {},
      "outputs": [
        {
          "name": "stderr",
          "output_type": "stream",
          "text": [
            "/Users/mohamed-amine_kenzeddine/opt/anaconda3/envs/Tp1/lib/python3.9/site-packages/sklearn/base.py:376: InconsistentVersionWarning: Trying to unpickle estimator KNeighborsClassifier from version 1.5.2 when using version 1.5.1. This might lead to breaking code or invalid results. Use at your own risk. For more info please refer to:\n",
            "https://scikit-learn.org/stable/model_persistence.html#security-maintainability-limitations\n",
            "  warnings.warn(\n"
          ]
        },
        {
          "name": "stdout",
          "output_type": "stream",
          "text": [
            "Lettres sur lesquelles le modèle a été entraîné :\n",
            "[ 0  1  2  3  4  5  6  7  8  9 10 11 12 13 14 15 16 17 18 19 20 21 22 23]\n",
            "AUC du meilleur modèle : 0.9995\n"
          ]
        }
      ],
      "source": [
        "from sklearn.metrics import roc_auc_score\n",
        "from sklearn.preprocessing import label_binarize\n",
        "import joblib\n",
        "\n",
        "# Charger le meilleur modèle\n",
        "model_path = \"knn_hand_sign_best_model.pkl\"\n",
        "best_model = joblib.load(model_path)\n",
        "\n",
        "# Vérifier les classes associées au modèle\n",
        "if hasattr(best_model, 'classes_'):\n",
        "    print(\"Lettres sur lesquelles le modèle a été entraîné :\")\n",
        "    print(best_model.classes_)\n",
        "else:\n",
        "    print(\"Impossible de récupérer les classes. Vérifiez le modèle ou les données.\")\n",
        "\n",
        "# Calculer l'AUC pour le meilleur modèle\n",
        "y_test_bin = label_binarize(y_test, classes=np.arange(len(alphabet_array)))\n",
        "y_score = best_model.predict_proba(X_test)\n",
        "auc_score_best = roc_auc_score(y_test_bin, y_score, multi_class=\"ovr\")\n",
        "print(f\"AUC du meilleur modèle : {auc_score_best:.4f}\")"
      ]
    }
  ],
  "metadata": {
    "accelerator": "GPU",
    "colab": {
      "gpuType": "T4",
      "provenance": []
    },
    "kernelspec": {
      "display_name": "Python 3",
      "name": "python3"
    },
    "language_info": {
      "codemirror_mode": {
        "name": "ipython",
        "version": 3
      },
      "file_extension": ".py",
      "mimetype": "text/x-python",
      "name": "python",
      "nbconvert_exporter": "python",
      "pygments_lexer": "ipython3",
      "version": "3.9.20"
    }
  },
  "nbformat": 4,
  "nbformat_minor": 0
}
